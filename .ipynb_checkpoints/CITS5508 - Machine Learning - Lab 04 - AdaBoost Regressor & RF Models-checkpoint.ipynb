{
 "cells": [
  {
   "cell_type": "markdown",
   "metadata": {},
   "source": [
    "# CITS5508 - Machine Learning - Lab 04 Attempt: AdaBoost Regressor & RF Models\n",
    "\n",
    "## Name: David Ika\n",
    "## Student number: 21520699\n",
    "\n",
    "### Intro\n",
    "This program is a submission for Lab Sheet 4 of unit CITS5508. Tasks will be carried out for 2 Projects, with several tasks in each.\n",
    "\n",
    "* Project 1 dataset supplied via: http://archive.ics.uci.edu/ml/datasets/Abalone\n",
    "* Project 2 dataset supplied via: https://archive.ics.uci.edu/ml/datasets/wine+quality\n",
    "   \n",
    " "
   ]
  },
  {
   "cell_type": "code",
   "execution_count": 1,
   "metadata": {},
   "outputs": [],
   "source": [
    "# data-processing libraries\n",
    "import numpy as np # process data.\n",
    "import pandas as pd # process data.\n",
    "import sklearn.linear_model # model data."
   ]
  },
  {
   "cell_type": "markdown",
   "metadata": {},
   "source": [
    "### Project 1 - Abalone dataset\n",
    "\n",
    "#### Task 1a. Importing and understanding the dataset"
   ]
  },
  {
   "cell_type": "code",
   "execution_count": 2,
   "metadata": {},
   "outputs": [
    {
     "data": {
      "text/html": [
       "<div>\n",
       "<style scoped>\n",
       "    .dataframe tbody tr th:only-of-type {\n",
       "        vertical-align: middle;\n",
       "    }\n",
       "\n",
       "    .dataframe tbody tr th {\n",
       "        vertical-align: top;\n",
       "    }\n",
       "\n",
       "    .dataframe thead th {\n",
       "        text-align: right;\n",
       "    }\n",
       "</style>\n",
       "<table border=\"1\" class=\"dataframe\">\n",
       "  <thead>\n",
       "    <tr style=\"text-align: right;\">\n",
       "      <th></th>\n",
       "      <th>sex</th>\n",
       "      <th>length</th>\n",
       "      <th>diameter</th>\n",
       "      <th>height</th>\n",
       "      <th>whole weight</th>\n",
       "      <th>shucked weight</th>\n",
       "      <th>viscera weight</th>\n",
       "      <th>shell weight</th>\n",
       "      <th>rings</th>\n",
       "    </tr>\n",
       "  </thead>\n",
       "  <tbody>\n",
       "    <tr>\n",
       "      <th>0</th>\n",
       "      <td>M</td>\n",
       "      <td>0.455</td>\n",
       "      <td>0.365</td>\n",
       "      <td>0.095</td>\n",
       "      <td>0.5140</td>\n",
       "      <td>0.2245</td>\n",
       "      <td>0.1010</td>\n",
       "      <td>0.150</td>\n",
       "      <td>15</td>\n",
       "    </tr>\n",
       "    <tr>\n",
       "      <th>1</th>\n",
       "      <td>M</td>\n",
       "      <td>0.350</td>\n",
       "      <td>0.265</td>\n",
       "      <td>0.090</td>\n",
       "      <td>0.2255</td>\n",
       "      <td>0.0995</td>\n",
       "      <td>0.0485</td>\n",
       "      <td>0.070</td>\n",
       "      <td>7</td>\n",
       "    </tr>\n",
       "    <tr>\n",
       "      <th>2</th>\n",
       "      <td>F</td>\n",
       "      <td>0.530</td>\n",
       "      <td>0.420</td>\n",
       "      <td>0.135</td>\n",
       "      <td>0.6770</td>\n",
       "      <td>0.2565</td>\n",
       "      <td>0.1415</td>\n",
       "      <td>0.210</td>\n",
       "      <td>9</td>\n",
       "    </tr>\n",
       "    <tr>\n",
       "      <th>3</th>\n",
       "      <td>M</td>\n",
       "      <td>0.440</td>\n",
       "      <td>0.365</td>\n",
       "      <td>0.125</td>\n",
       "      <td>0.5160</td>\n",
       "      <td>0.2155</td>\n",
       "      <td>0.1140</td>\n",
       "      <td>0.155</td>\n",
       "      <td>10</td>\n",
       "    </tr>\n",
       "    <tr>\n",
       "      <th>4</th>\n",
       "      <td>I</td>\n",
       "      <td>0.330</td>\n",
       "      <td>0.255</td>\n",
       "      <td>0.080</td>\n",
       "      <td>0.2050</td>\n",
       "      <td>0.0895</td>\n",
       "      <td>0.0395</td>\n",
       "      <td>0.055</td>\n",
       "      <td>7</td>\n",
       "    </tr>\n",
       "  </tbody>\n",
       "</table>\n",
       "</div>"
      ],
      "text/plain": [
       "  sex  length  diameter  height  whole weight  shucked weight  viscera weight  \\\n",
       "0   M   0.455     0.365   0.095        0.5140          0.2245          0.1010   \n",
       "1   M   0.350     0.265   0.090        0.2255          0.0995          0.0485   \n",
       "2   F   0.530     0.420   0.135        0.6770          0.2565          0.1415   \n",
       "3   M   0.440     0.365   0.125        0.5160          0.2155          0.1140   \n",
       "4   I   0.330     0.255   0.080        0.2050          0.0895          0.0395   \n",
       "\n",
       "   shell weight  rings  \n",
       "0         0.150     15  \n",
       "1         0.070      7  \n",
       "2         0.210      9  \n",
       "3         0.155     10  \n",
       "4         0.055      7  "
      ]
     },
     "execution_count": 2,
     "metadata": {},
     "output_type": "execute_result"
    }
   ],
   "source": [
    "abalone = pd.read_csv('abalone.DATA', index_col=None, sep=',', names = ['sex','length','diameter','height','whole weight','shucked weight','viscera weight','shell weight','rings']) # read in file.\n",
    "                                                                       \n",
    "abalone.head(5) # view first 5 rows"
   ]
  },
  {
   "cell_type": "markdown",
   "metadata": {},
   "source": [
    "Above, we have imported the given dataset, separated it based on commas, and labelled each column based on information in the names file, per website linked above. There are 8 input columns and 1 output column - summarised below.\n",
    "\n",
    "Given is the attribute name, attribute type, the measurement unit and a\n",
    "brief description.  The number of rings is the value to predict, which indicates age.\n",
    "\n",
    "1. **sex**: nominal; M, F, and I (infant).\n",
    "2. **length**: continuous; longest shell measurement (mm).\n",
    "3. **diameter**: continuous; perpendicular to length (mm).\n",
    "4. **height**: continuous; height with meat in shell (mm).\n",
    "5. **whole weight**: continuous; whole abalone (grams).\n",
    "6. **shucked weight**: continuous; weight of meat (grams).\n",
    "7. **viscera weight**: continuous; gut weight (post-bleed) (grams).\n",
    "8. **shell weight**: continuous; weight after being dried (grams).\n",
    "\n",
    "\n",
    "\n",
    "9. Ouput: **rings**: integer; +1.5 gives age in years."
   ]
  },
  {
   "cell_type": "markdown",
   "metadata": {},
   "source": [
    "##### Visualising the data"
   ]
  },
  {
   "cell_type": "code",
   "execution_count": 3,
   "metadata": {},
   "outputs": [
    {
     "data": {
      "image/png": "[encoded data removed]",
      "text/plain": [
       "<Figure size 1440x1080 with 9 Axes>"
      ]
     },
     "metadata": {
      "needs_background": "light"
     },
     "output_type": "display_data"
    }
   ],
   "source": [
    "# using matplotlib to visualise all features\n",
    "%matplotlib inline\n",
    "import matplotlib.pyplot as plt\n",
    "\n",
    "abalone.hist(bins=50, figsize=(20,15))\n",
    "plt.show()"
   ]
  },
  {
   "cell_type": "markdown",
   "metadata": {},
   "source": [
    "The above graphs show histograms of the numerical input variables.\n",
    "\n",
    "Length and diameter show somewhat similar left-skewed distributions with some correlation, as expected, since diameter is a function of length (perpendicular to length).\n",
    "\n",
    "Height shows a unimodal distribution with low variance between most of the samples.\n",
    "\n",
    "The 4 different types of weight show very similar right-skewed distributions, which makes sense as the abalones would probably differ by similar amounts between weight reductions (that is, whole > meat > guts > dried)."
   ]
  },
  {
   "cell_type": "markdown",
   "metadata": {},
   "source": [
    "#### Task 1b. feature selection"
   ]
  },
  {
   "cell_type": "markdown",
   "metadata": {},
   "source": [
    "Below, we observe the correlations between numerical feature variables, to determine two variables to remove."
   ]
  },
  {
   "cell_type": "code",
   "execution_count": 4,
   "metadata": {},
   "outputs": [
    {
     "name": "stdout",
     "output_type": "stream",
     "text": [
      "diameter        length            0.986812\n",
      "shucked weight  whole weight      0.969405\n",
      "viscera weight  whole weight      0.966375\n",
      "shell weight    whole weight      0.955355\n",
      "viscera weight  shucked weight    0.931961\n",
      "whole weight    diameter          0.925452\n",
      "                length            0.925261\n",
      "shell weight    viscera weight    0.907656\n",
      "                diameter          0.905330\n",
      "viscera weight  length            0.903018\n",
      "                diameter          0.899724\n",
      "shucked weight  length            0.897914\n",
      "shell weight    length            0.897706\n",
      "shucked weight  diameter          0.893162\n",
      "shell weight    shucked weight    0.882617\n",
      "height          diameter          0.833684\n",
      "                length            0.827554\n",
      "whole weight    height            0.819221\n",
      "shell weight    height            0.817338\n",
      "viscera weight  height            0.798319\n",
      "shucked weight  height            0.774972\n",
      "rings           shell weight      0.627574\n",
      "                diameter          0.574660\n",
      "                height            0.557467\n",
      "                length            0.556720\n",
      "                whole weight      0.540390\n",
      "                viscera weight    0.503819\n",
      "                shucked weight    0.420884\n",
      "dtype: float64\n"
     ]
    }
   ],
   "source": [
    "# Create matrix\n",
    "corr_aba = abalone.corr(method='pearson')\n",
    "  \n",
    "# Retain upper triangular values of matrix and make lower triangular values Null:\n",
    "upper_corr = corr_aba.where(\n",
    "    np.triu(np.ones(corr_aba.shape), k=1).astype(np.bool))\n",
    "  \n",
    "# Convert to 1-D series and drop Nulls\n",
    "unique_corr = upper_corr.unstack().dropna()\n",
    "  \n",
    "# Sort corr pairs with highest at top:\n",
    "sorted_corr = unique_corr.sort_values(ascending=False)\n",
    "\n",
    "print(sorted_corr)"
   ]
  },
  {
   "cell_type": "markdown",
   "metadata": {},
   "source": [
    "The above array gives us a nicely sorted output of correlations between the numerical feature variables, without self-correlations.\n",
    "\n",
    "We will remove **length** and **whole weight**, as they are two variables within the top 2 pairs of correlations. They also seem to recurr more frequently towards the top of the list, implying higher correlations with other variables as well."
   ]
  },
  {
   "cell_type": "code",
   "execution_count": 5,
   "metadata": {},
   "outputs": [
    {
     "data": {
      "text/html": [
       "<div>\n",
       "<style scoped>\n",
       "    .dataframe tbody tr th:only-of-type {\n",
       "        vertical-align: middle;\n",
       "    }\n",
       "\n",
       "    .dataframe tbody tr th {\n",
       "        vertical-align: top;\n",
       "    }\n",
       "\n",
       "    .dataframe thead th {\n",
       "        text-align: right;\n",
       "    }\n",
       "</style>\n",
       "<table border=\"1\" class=\"dataframe\">\n",
       "  <thead>\n",
       "    <tr style=\"text-align: right;\">\n",
       "      <th></th>\n",
       "      <th>sex</th>\n",
       "      <th>diameter</th>\n",
       "      <th>height</th>\n",
       "      <th>shucked weight</th>\n",
       "      <th>viscera weight</th>\n",
       "      <th>shell weight</th>\n",
       "      <th>rings</th>\n",
       "    </tr>\n",
       "  </thead>\n",
       "  <tbody>\n",
       "    <tr>\n",
       "      <th>0</th>\n",
       "      <td>M</td>\n",
       "      <td>0.365</td>\n",
       "      <td>0.095</td>\n",
       "      <td>0.2245</td>\n",
       "      <td>0.1010</td>\n",
       "      <td>0.1500</td>\n",
       "      <td>15</td>\n",
       "    </tr>\n",
       "    <tr>\n",
       "      <th>1</th>\n",
       "      <td>M</td>\n",
       "      <td>0.265</td>\n",
       "      <td>0.090</td>\n",
       "      <td>0.0995</td>\n",
       "      <td>0.0485</td>\n",
       "      <td>0.0700</td>\n",
       "      <td>7</td>\n",
       "    </tr>\n",
       "    <tr>\n",
       "      <th>2</th>\n",
       "      <td>F</td>\n",
       "      <td>0.420</td>\n",
       "      <td>0.135</td>\n",
       "      <td>0.2565</td>\n",
       "      <td>0.1415</td>\n",
       "      <td>0.2100</td>\n",
       "      <td>9</td>\n",
       "    </tr>\n",
       "    <tr>\n",
       "      <th>3</th>\n",
       "      <td>M</td>\n",
       "      <td>0.365</td>\n",
       "      <td>0.125</td>\n",
       "      <td>0.2155</td>\n",
       "      <td>0.1140</td>\n",
       "      <td>0.1550</td>\n",
       "      <td>10</td>\n",
       "    </tr>\n",
       "    <tr>\n",
       "      <th>4</th>\n",
       "      <td>I</td>\n",
       "      <td>0.255</td>\n",
       "      <td>0.080</td>\n",
       "      <td>0.0895</td>\n",
       "      <td>0.0395</td>\n",
       "      <td>0.0550</td>\n",
       "      <td>7</td>\n",
       "    </tr>\n",
       "    <tr>\n",
       "      <th>...</th>\n",
       "      <td>...</td>\n",
       "      <td>...</td>\n",
       "      <td>...</td>\n",
       "      <td>...</td>\n",
       "      <td>...</td>\n",
       "      <td>...</td>\n",
       "      <td>...</td>\n",
       "    </tr>\n",
       "    <tr>\n",
       "      <th>4172</th>\n",
       "      <td>F</td>\n",
       "      <td>0.450</td>\n",
       "      <td>0.165</td>\n",
       "      <td>0.3700</td>\n",
       "      <td>0.2390</td>\n",
       "      <td>0.2490</td>\n",
       "      <td>11</td>\n",
       "    </tr>\n",
       "    <tr>\n",
       "      <th>4173</th>\n",
       "      <td>M</td>\n",
       "      <td>0.440</td>\n",
       "      <td>0.135</td>\n",
       "      <td>0.4390</td>\n",
       "      <td>0.2145</td>\n",
       "      <td>0.2605</td>\n",
       "      <td>10</td>\n",
       "    </tr>\n",
       "    <tr>\n",
       "      <th>4174</th>\n",
       "      <td>M</td>\n",
       "      <td>0.475</td>\n",
       "      <td>0.205</td>\n",
       "      <td>0.5255</td>\n",
       "      <td>0.2875</td>\n",
       "      <td>0.3080</td>\n",
       "      <td>9</td>\n",
       "    </tr>\n",
       "    <tr>\n",
       "      <th>4175</th>\n",
       "      <td>F</td>\n",
       "      <td>0.485</td>\n",
       "      <td>0.150</td>\n",
       "      <td>0.5310</td>\n",
       "      <td>0.2610</td>\n",
       "      <td>0.2960</td>\n",
       "      <td>10</td>\n",
       "    </tr>\n",
       "    <tr>\n",
       "      <th>4176</th>\n",
       "      <td>M</td>\n",
       "      <td>0.555</td>\n",
       "      <td>0.195</td>\n",
       "      <td>0.9455</td>\n",
       "      <td>0.3765</td>\n",
       "      <td>0.4950</td>\n",
       "      <td>12</td>\n",
       "    </tr>\n",
       "  </tbody>\n",
       "</table>\n",
       "<p>4177 rows × 7 columns</p>\n",
       "</div>"
      ],
      "text/plain": [
       "     sex  diameter  height  shucked weight  viscera weight  shell weight  \\\n",
       "0      M     0.365   0.095          0.2245          0.1010        0.1500   \n",
       "1      M     0.265   0.090          0.0995          0.0485        0.0700   \n",
       "2      F     0.420   0.135          0.2565          0.1415        0.2100   \n",
       "3      M     0.365   0.125          0.2155          0.1140        0.1550   \n",
       "4      I     0.255   0.080          0.0895          0.0395        0.0550   \n",
       "...   ..       ...     ...             ...             ...           ...   \n",
       "4172   F     0.450   0.165          0.3700          0.2390        0.2490   \n",
       "4173   M     0.440   0.135          0.4390          0.2145        0.2605   \n",
       "4174   M     0.475   0.205          0.5255          0.2875        0.3080   \n",
       "4175   F     0.485   0.150          0.5310          0.2610        0.2960   \n",
       "4176   M     0.555   0.195          0.9455          0.3765        0.4950   \n",
       "\n",
       "      rings  \n",
       "0        15  \n",
       "1         7  \n",
       "2         9  \n",
       "3        10  \n",
       "4         7  \n",
       "...     ...  \n",
       "4172     11  \n",
       "4173     10  \n",
       "4174      9  \n",
       "4175     10  \n",
       "4176     12  \n",
       "\n",
       "[4177 rows x 7 columns]"
      ]
     },
     "execution_count": 5,
     "metadata": {},
     "output_type": "execute_result"
    }
   ],
   "source": [
    "abalone1 = abalone.drop(['length'], axis=1).drop(['whole weight'], axis=1)\n",
    "\n",
    "abalone1 # now working with abalone1"
   ]
  },
  {
   "cell_type": "markdown",
   "metadata": {},
   "source": [
    "#### Task 1c(ii). relabelling **sex** column & one-hot encoding"
   ]
  },
  {
   "cell_type": "code",
   "execution_count": 6,
   "metadata": {},
   "outputs": [],
   "source": [
    "abalone1['sex'] = abalone1['sex'].replace({'M': 'A', 'F': 'A'})"
   ]
  },
  {
   "cell_type": "code",
   "execution_count": 7,
   "metadata": {},
   "outputs": [
    {
     "data": {
      "text/plain": [
       "A    2835\n",
       "I    1342\n",
       "Name: sex, dtype: int64"
      ]
     },
     "execution_count": 7,
     "metadata": {},
     "output_type": "execute_result"
    }
   ],
   "source": [
    "abalone1['sex'].value_counts()"
   ]
  },
  {
   "cell_type": "markdown",
   "metadata": {},
   "source": [
    "##### one-hot-encoding"
   ]
  },
  {
   "cell_type": "code",
   "execution_count": 8,
   "metadata": {},
   "outputs": [
    {
     "data": {
      "text/plain": [
       "1.0    2835\n",
       "0.0    1342\n",
       "Name: sex, dtype: int64"
      ]
     },
     "execution_count": 8,
     "metadata": {},
     "output_type": "execute_result"
    }
   ],
   "source": [
    "from sklearn.preprocessing import OneHotEncoder\n",
    "\n",
    "abalone1['sex'] = OneHotEncoder().fit_transform(abalone1[['sex']]).toarray()\n",
    "\n",
    "abalone1['sex']\n",
    "\n",
    "abalone1['sex'].value_counts()\n",
    "\n",
    "# now we have adult = 1; infant = 0."
   ]
  },
  {
   "cell_type": "markdown",
   "metadata": {},
   "source": [
    "#### Task 2. training & test split:"
   ]
  },
  {
   "cell_type": "code",
   "execution_count": 9,
   "metadata": {},
   "outputs": [],
   "source": [
    "from sklearn.model_selection import train_test_split\n",
    "\n",
    "train_aba, test_aba = train_test_split(abalone1, test_size = 0.15, random_state = 1337)"
   ]
  },
  {
   "cell_type": "markdown",
   "metadata": {},
   "source": [
    "#### Tasks 3 & 4. AdaBoost Regressor with SVR & RBF kernel.\n",
    "\n",
    "First, we create the X and y variables to be utilised in the AdaBoost regressor. X being the feature (input) variables, and y being the  output variable ('rings').\n",
    "\n",
    "Note that we are now working with the train_aba and test_aba arrays."
   ]
  },
  {
   "cell_type": "code",
   "execution_count": 10,
   "metadata": {},
   "outputs": [],
   "source": [
    "# Preparing X, y from training & testing datasets.\n",
    "\n",
    "# Extract X & y from training set:\n",
    "X_train = train_aba.iloc[:, :-1]\n",
    "y_train = pd.DataFrame(train_aba, columns =[\"rings\"])\n",
    "\n",
    "# Extract X & y from testing set:\n",
    "X_test = test_aba.iloc[:, :-1]\n",
    "y_test = pd.DataFrame(test_aba, columns =[\"rings\"])"
   ]
  },
  {
   "cell_type": "code",
   "execution_count": 11,
   "metadata": {},
   "outputs": [],
   "source": [
    "# modelling:\n",
    "\n",
    "from sklearn.svm import SVR # use within ABR.\n",
    "from sklearn.ensemble import AdaBoostRegressor # core model.\n",
    "from sklearn import metrics # model eval.\n",
    "from sklearn.metrics import mean_absolute_error # model eval.\n",
    "\n",
    "\n",
    "regr = AdaBoostRegressor(\n",
    "    SVR(kernel='rbf'), # build ABR from SVR with RBF kernel.\n",
    "    n_estimators=5)\n",
    "\n",
    "# training the model:\n",
    "regr.fit(X_train, y_train.values.ravel()) # .values.ravel() to convert column-vector to 1-d array.\n",
    "\n",
    "\n",
    "# applying to training dataset:\n",
    "exp_y_train = y_train # actual.\n",
    "pred_y_train = regr.predict(X_train).round()  # what our model predicts. # why is it keeping the decimal?\n",
    "\n",
    "\n",
    "# applying to testing dataset:\n",
    "exp_y_test = y_test # actual.\n",
    "pred_y_test = regr.predict(X_test).round() # what our model predicts."
   ]
  },
  {
   "cell_type": "markdown",
   "metadata": {},
   "source": [
    "We note that we have not determined best-fit hyperparamters above. We have been asked to leave this out, but this cell shows an example of code that might be used to determine the best hyperparamters to use, to reduce over- or under-fitting the model.\n",
    "\n",
    "\"\"\"\n",
    "load GridSearch from sklearn:\n",
    "\n",
    "\n",
    "from sklearn.model_selection import GridSearchCV\n",
    "\n",
    "investigating 3 values for 3 hyperparamters:\n",
    "\n",
    "param_grid = [ {'kernel': ['linear', 'poly'],\n",
    "                'gamma': [3, 15, 75],\n",
    "                'C': [2, 4, 7]} ]\n",
    "\n",
    "grid_search = GridSearchCV(SVR(),\n",
    "                           param_grid,\n",
    "                           cv = 3,\n",
    "                           scoring = 'f1_micro', \n",
    "                           return_train_score = True)\n",
    "\n",
    "grid_search.fit(X, y)        \n",
    "\"\"\""
   ]
  },
  {
   "cell_type": "markdown",
   "metadata": {},
   "source": [
    "#### Tasks 5. evaluating predictions.\n"
   ]
  },
  {
   "cell_type": "code",
   "execution_count": 12,
   "metadata": {},
   "outputs": [],
   "source": [
    "# Compare overall uniform average of MAE between train & test\n",
    "\n",
    "mae_train = mean_absolute_error(exp_y_train, pred_y_train)\n",
    "mae_test = mean_absolute_error(exp_y_test, pred_y_test)"
   ]
  },
  {
   "cell_type": "code",
   "execution_count": 13,
   "metadata": {},
   "outputs": [
    {
     "data": {
      "text/plain": [
       "1.488169014084507"
      ]
     },
     "execution_count": 13,
     "metadata": {},
     "output_type": "execute_result"
    }
   ],
   "source": [
    "mae_train"
   ]
  },
  {
   "cell_type": "code",
   "execution_count": 14,
   "metadata": {},
   "outputs": [
    {
     "data": {
      "text/plain": [
       "1.4912280701754386"
      ]
     },
     "execution_count": 14,
     "metadata": {},
     "output_type": "execute_result"
    }
   ],
   "source": [
    "mae_test"
   ]
  },
  {
   "cell_type": "markdown",
   "metadata": {},
   "source": [
    "* Above, we see that the mean absolute errors are somewhat similar between the training and testing datasets, implying similar accuracy in predictions."
   ]
  },
  {
   "cell_type": "code",
   "execution_count": 15,
   "metadata": {},
   "outputs": [
    {
     "data": {
      "text/plain": [
       "array([0.08673641, 0.11759216, 0.17513415, 0.28215727, 0.31295452])"
      ]
     },
     "execution_count": 15,
     "metadata": {},
     "output_type": "execute_result"
    }
   ],
   "source": [
    "# compare estimator errors\n",
    "\n",
    "estimator_errs = regr.estimator_errors_\n",
    "estimator_errs"
   ]
  },
  {
   "cell_type": "markdown",
   "metadata": {},
   "source": [
    "* Above, we have the R2 score for each estimator. The higher R2 the better, which makes sense since we would expect each iteration of the estimators 1 to 5 to be progressively improving. This would mean that the mean absolute error would be progressively decreasing as well."
   ]
  },
  {
   "cell_type": "markdown",
   "metadata": {},
   "source": [
    "#### Tasks 6. Function to visualise prediction results"
   ]
  },
  {
   "cell_type": "code",
   "execution_count": 18,
   "metadata": {},
   "outputs": [],
   "source": [
    "# creating the function:\n",
    "\n",
    "def results(train_pred,   # predicted values on training set.\n",
    "            train_actual, # actual values on training set.\n",
    "            test_pred,    # predicted values on training set.\n",
    "            test_actual,  # actual values on training set.\n",
    "            title,        # title of plot\n",
    "            x_label,      # x-axis title of plot.\n",
    "            y_label):     # y-axis title of plot.\n",
    "\n",
    "    import matplotlib.pyplot as plt\n",
    "\n",
    "    fig, axs = plt.subplots(2)\n",
    "    fig.suptitle(title)\n",
    "    handles, labels = ax.get_legend_handles_labels()\n",
    "    fig.legend(handles, labels, loc='center', bbox_to_anchor=(1.2, 0.5))\n",
    "    fig.tight_layout(h_pad=1.5)\n",
    "    fig.savefig('subplot.png', dpi=150)\n",
    "    fig.text(0.5, -0.05, x_label, ha='center')\n",
    "    fig.text(-0.03, 0.5, y_label, va='center', rotation='vertical')\n",
    "\n",
    "# plot 1 - training data:\n",
    "\n",
    "    x_ax = range(len(train_actual))\n",
    "    axs[0].scatter(x1, train_actual, s=5, color=\"blue\", label=\"actual\")\n",
    "    axs[0].plot(x1, train_pred, lw=0.8, color=\"red\", label=\"predicted\")\n",
    "    axs[0].set_title('training data')\n",
    "    \n",
    "# plot 2 - testing data:\n",
    "\n",
    "    x_ax = range(len(test_actual))\n",
    "    axs[1].scatter(x2, test_actual, s=5, color=\"blue\", label=\"actual\")\n",
    "    axs[1].plot(x2, test_pred, lw=0.8, color=\"red\", label=\"predicted\")\n",
    "    axs[1].set_title('testing data')\n",
    "    plt.show()"
   ]
  },
  {
   "cell_type": "code",
   "execution_count": 19,
   "metadata": {},
   "outputs": [
    {
     "ename": "NameError",
     "evalue": "name 'ax' is not defined",
     "output_type": "error",
     "traceback": [
      "\u001b[1;31m---------------------------------------------------------------------------\u001b[0m",
      "\u001b[1;31mNameError\u001b[0m                                 Traceback (most recent call last)",
      "\u001b[1;32m<ipython-input-19-7ac3086478e9>\u001b[0m in \u001b[0;36m<module>\u001b[1;34m\u001b[0m\n\u001b[0;32m      1\u001b[0m \u001b[1;31m# calling the function:\u001b[0m\u001b[1;33m\u001b[0m\u001b[1;33m\u001b[0m\u001b[1;33m\u001b[0m\u001b[0m\n\u001b[0;32m      2\u001b[0m \u001b[1;33m\u001b[0m\u001b[0m\n\u001b[1;32m----> 3\u001b[1;33m results(pred_y_train,\n\u001b[0m\u001b[0;32m      4\u001b[0m         \u001b[0mexp_y_train\u001b[0m\u001b[1;33m,\u001b[0m\u001b[1;33m\u001b[0m\u001b[1;33m\u001b[0m\u001b[0m\n\u001b[0;32m      5\u001b[0m         \u001b[0mpred_y_test\u001b[0m\u001b[1;33m,\u001b[0m\u001b[1;33m\u001b[0m\u001b[1;33m\u001b[0m\u001b[0m\n",
      "\u001b[1;32m<ipython-input-18-1321f6e5d8a1>\u001b[0m in \u001b[0;36mresults\u001b[1;34m(train_pred, train_actual, test_pred, test_actual, title, x_label, y_label)\u001b[0m\n\u001b[0;32m     13\u001b[0m     \u001b[0mfig\u001b[0m\u001b[1;33m,\u001b[0m \u001b[0maxs\u001b[0m \u001b[1;33m=\u001b[0m \u001b[0mplt\u001b[0m\u001b[1;33m.\u001b[0m\u001b[0msubplots\u001b[0m\u001b[1;33m(\u001b[0m\u001b[1;36m2\u001b[0m\u001b[1;33m)\u001b[0m\u001b[1;33m\u001b[0m\u001b[1;33m\u001b[0m\u001b[0m\n\u001b[0;32m     14\u001b[0m     \u001b[0mfig\u001b[0m\u001b[1;33m.\u001b[0m\u001b[0msuptitle\u001b[0m\u001b[1;33m(\u001b[0m\u001b[0mtitle\u001b[0m\u001b[1;33m)\u001b[0m\u001b[1;33m\u001b[0m\u001b[1;33m\u001b[0m\u001b[0m\n\u001b[1;32m---> 15\u001b[1;33m     \u001b[0mhandles\u001b[0m\u001b[1;33m,\u001b[0m \u001b[0mlabels\u001b[0m \u001b[1;33m=\u001b[0m \u001b[0max\u001b[0m\u001b[1;33m.\u001b[0m\u001b[0mget_legend_handles_labels\u001b[0m\u001b[1;33m(\u001b[0m\u001b[1;33m)\u001b[0m\u001b[1;33m\u001b[0m\u001b[1;33m\u001b[0m\u001b[0m\n\u001b[0m\u001b[0;32m     16\u001b[0m     \u001b[0mfig\u001b[0m\u001b[1;33m.\u001b[0m\u001b[0mlegend\u001b[0m\u001b[1;33m(\u001b[0m\u001b[0mhandles\u001b[0m\u001b[1;33m,\u001b[0m \u001b[0mlabels\u001b[0m\u001b[1;33m,\u001b[0m \u001b[0mloc\u001b[0m\u001b[1;33m=\u001b[0m\u001b[1;34m'center'\u001b[0m\u001b[1;33m,\u001b[0m \u001b[0mbbox_to_anchor\u001b[0m\u001b[1;33m=\u001b[0m\u001b[1;33m(\u001b[0m\u001b[1;36m1.2\u001b[0m\u001b[1;33m,\u001b[0m \u001b[1;36m0.5\u001b[0m\u001b[1;33m)\u001b[0m\u001b[1;33m)\u001b[0m\u001b[1;33m\u001b[0m\u001b[1;33m\u001b[0m\u001b[0m\n\u001b[0;32m     17\u001b[0m     \u001b[0mfig\u001b[0m\u001b[1;33m.\u001b[0m\u001b[0mtight_layout\u001b[0m\u001b[1;33m(\u001b[0m\u001b[0mh_pad\u001b[0m\u001b[1;33m=\u001b[0m\u001b[1;36m1.5\u001b[0m\u001b[1;33m)\u001b[0m\u001b[1;33m\u001b[0m\u001b[1;33m\u001b[0m\u001b[0m\n",
      "\u001b[1;31mNameError\u001b[0m: name 'ax' is not defined"
     ]
    },
    {
     "data": {
      "image/png": "[encoded data removed]",
      "text/plain": [
       "<Figure size 432x288 with 2 Axes>"
      ]
     },
     "metadata": {
      "needs_background": "light"
     },
     "output_type": "display_data"
    }
   ],
   "source": [
    "# calling the function:\n",
    "\n",
    "results(pred_y_train,\n",
    "        exp_y_train,\n",
    "        pred_y_test,\n",
    "        exp_y_test,\n",
    "        \"Visualising actual & predicted results between train & test datasets\",\n",
    "        \"Frequency\",\n",
    "        \"Ring count\")"
   ]
  },
  {
   "cell_type": "markdown",
   "metadata": {},
   "source": [
    "#### Tasks 7. Distributions of raw prediction errors"
   ]
  },
  {
   "cell_type": "code",
   "execution_count": 20,
   "metadata": {},
   "outputs": [],
   "source": [
    "# creating the function:\n",
    "\n",
    "def plot_hist(train_pred,   # predicted values on training set.\n",
    "            train_actual, # actual values on training set.\n",
    "            test_pred,    # predicted values on training set.\n",
    "            test_actual,  # actual values on training set.\n",
    "            title,        # title of plot\n",
    "            x_label,      # x-axis title of plot.\n",
    "            y_label):     # y-axis title of plot.\n",
    "\n",
    "    import matplotlib.pyplot as plt\n",
    "    \n",
    "    # Form new array based on (predicted) - (actual) values.\n",
    "    # for training set:\n",
    "\n",
    "    pred_train = np.array(train_pred)\n",
    "    actual_train = np.array(train_actual)\n",
    "    \n",
    "    #global train_raw_errors\n",
    "    train_raw_errors = pred_train - actual_train[:, np.newaxis]\n",
    "\n",
    "    # and for testing set:\n",
    "\n",
    "    pred_test = np.array(test_pred)\n",
    "    actual_test = np.array(test_actual)\n",
    "\n",
    "    test_raw_errors = pred_test - actual_test[:, np.newaxis]    \n",
    "\n",
    "    fig, axs = plt.subplots(2)\n",
    "    fig.suptitle(title)\n",
    "    fig.tight_layout(h_pad=1.5)\n",
    "    fig.savefig('subplot.png', dpi=150)\n",
    "    fig.text(0.5, -0.05, x_label, ha='center')\n",
    "    fig.text(-0.03, 0.5, y_label, va='center', rotation='vertical')\n",
    "\n",
    "# plot 1 - training data:\n",
    "    axs[0].hist(np.histogram(train_raw_errors, bins = 10, range = (-10,10)))\n",
    "    axs[0].set_title('training data')\n",
    "    \n",
    "# plot 2 - testing data:\n",
    "\n",
    "    axs[1].hist(np.histogram(test_raw_errors, bins = 10, range = (-10,10)))\n",
    "    axs[1].set_title('testing data')\n",
    "    plt.show()\n"
   ]
  },
  {
   "cell_type": "code",
   "execution_count": 21,
   "metadata": {
    "scrolled": false
   },
   "outputs": [
    {
     "data": {
      "image/png": "[encoded data removed]",
      "text/plain": [
       "<Figure size 432x288 with 2 Axes>"
      ]
     },
     "metadata": {
      "needs_background": "light"
     },
     "output_type": "display_data"
    }
   ],
   "source": [
    "# calling function:\n",
    "\n",
    "plot_hist(pred_y_train,\n",
    "        exp_y_train,\n",
    "        pred_y_test,\n",
    "        exp_y_test,\n",
    "        \"Distributions of raw prediction errors on train & test datasets\",\n",
    "        \"Frequency\",\n",
    "        \"Raw prediction error\")"
   ]
  },
  {
   "cell_type": "markdown",
   "metadata": {},
   "source": [
    "Above, we are showing the distribution of raw prediction errors on the final model. We are showing this for our model applied on both the training and testing dataset.\n",
    "\n",
    "A raw error value is calculated by subtracting the predicted value (number of rings) from the actual value. A negative (positive) result therefore means that the model has underestimated (overestimated) the ring count."
   ]
  },
  {
   "cell_type": "markdown",
   "metadata": {},
   "source": [
    "#### Tasks 8. Discussion & Conclusion\n",
    "##### Comparing performance of AdaBoostRegressor on train vs test datasets."
   ]
  },
  {
   "cell_type": "markdown",
   "metadata": {},
   "source": [
    "We note that the AdaBoostRegressor seems to have performed similarly between the train and test datasets.\n",
    "\n",
    "We did note that on both the training and testing datasets, that the model's MAE was decreasing after each iteration, which makes sense and was to be expected. There were similar changes between iterations between both sets.\n",
    "\n"
   ]
  },
  {
   "cell_type": "markdown",
   "metadata": {},
   "source": [
    "### Project 2 - Red Wine dataset\n",
    "\n",
    "#### Task 1a. Importing and understanding the dataset"
   ]
  },
  {
   "cell_type": "code",
   "execution_count": 22,
   "metadata": {},
   "outputs": [
    {
     "data": {
      "text/html": [
       "<div>\n",
       "<style scoped>\n",
       "    .dataframe tbody tr th:only-of-type {\n",
       "        vertical-align: middle;\n",
       "    }\n",
       "\n",
       "    .dataframe tbody tr th {\n",
       "        vertical-align: top;\n",
       "    }\n",
       "\n",
       "    .dataframe thead th {\n",
       "        text-align: right;\n",
       "    }\n",
       "</style>\n",
       "<table border=\"1\" class=\"dataframe\">\n",
       "  <thead>\n",
       "    <tr style=\"text-align: right;\">\n",
       "      <th></th>\n",
       "      <th>fixed acidity</th>\n",
       "      <th>volatile acidity</th>\n",
       "      <th>citric acid</th>\n",
       "      <th>residual sugar</th>\n",
       "      <th>chlorides</th>\n",
       "      <th>free sulfur dioxide</th>\n",
       "      <th>total sulfur dioxide</th>\n",
       "      <th>density</th>\n",
       "      <th>pH</th>\n",
       "      <th>sulphates</th>\n",
       "      <th>alcohol</th>\n",
       "      <th>quality</th>\n",
       "    </tr>\n",
       "  </thead>\n",
       "  <tbody>\n",
       "    <tr>\n",
       "      <th>0</th>\n",
       "      <td>7.4</td>\n",
       "      <td>0.70</td>\n",
       "      <td>0.00</td>\n",
       "      <td>1.9</td>\n",
       "      <td>0.076</td>\n",
       "      <td>11.0</td>\n",
       "      <td>34.0</td>\n",
       "      <td>0.9978</td>\n",
       "      <td>3.51</td>\n",
       "      <td>0.56</td>\n",
       "      <td>9.4</td>\n",
       "      <td>5</td>\n",
       "    </tr>\n",
       "    <tr>\n",
       "      <th>1</th>\n",
       "      <td>7.8</td>\n",
       "      <td>0.88</td>\n",
       "      <td>0.00</td>\n",
       "      <td>2.6</td>\n",
       "      <td>0.098</td>\n",
       "      <td>25.0</td>\n",
       "      <td>67.0</td>\n",
       "      <td>0.9968</td>\n",
       "      <td>3.20</td>\n",
       "      <td>0.68</td>\n",
       "      <td>9.8</td>\n",
       "      <td>5</td>\n",
       "    </tr>\n",
       "    <tr>\n",
       "      <th>2</th>\n",
       "      <td>7.8</td>\n",
       "      <td>0.76</td>\n",
       "      <td>0.04</td>\n",
       "      <td>2.3</td>\n",
       "      <td>0.092</td>\n",
       "      <td>15.0</td>\n",
       "      <td>54.0</td>\n",
       "      <td>0.9970</td>\n",
       "      <td>3.26</td>\n",
       "      <td>0.65</td>\n",
       "      <td>9.8</td>\n",
       "      <td>5</td>\n",
       "    </tr>\n",
       "    <tr>\n",
       "      <th>3</th>\n",
       "      <td>11.2</td>\n",
       "      <td>0.28</td>\n",
       "      <td>0.56</td>\n",
       "      <td>1.9</td>\n",
       "      <td>0.075</td>\n",
       "      <td>17.0</td>\n",
       "      <td>60.0</td>\n",
       "      <td>0.9980</td>\n",
       "      <td>3.16</td>\n",
       "      <td>0.58</td>\n",
       "      <td>9.8</td>\n",
       "      <td>6</td>\n",
       "    </tr>\n",
       "    <tr>\n",
       "      <th>4</th>\n",
       "      <td>7.4</td>\n",
       "      <td>0.70</td>\n",
       "      <td>0.00</td>\n",
       "      <td>1.9</td>\n",
       "      <td>0.076</td>\n",
       "      <td>11.0</td>\n",
       "      <td>34.0</td>\n",
       "      <td>0.9978</td>\n",
       "      <td>3.51</td>\n",
       "      <td>0.56</td>\n",
       "      <td>9.4</td>\n",
       "      <td>5</td>\n",
       "    </tr>\n",
       "  </tbody>\n",
       "</table>\n",
       "</div>"
      ],
      "text/plain": [
       "   fixed acidity  volatile acidity  citric acid  residual sugar  chlorides  \\\n",
       "0            7.4              0.70         0.00             1.9      0.076   \n",
       "1            7.8              0.88         0.00             2.6      0.098   \n",
       "2            7.8              0.76         0.04             2.3      0.092   \n",
       "3           11.2              0.28         0.56             1.9      0.075   \n",
       "4            7.4              0.70         0.00             1.9      0.076   \n",
       "\n",
       "   free sulfur dioxide  total sulfur dioxide  density    pH  sulphates  \\\n",
       "0                 11.0                  34.0   0.9978  3.51       0.56   \n",
       "1                 25.0                  67.0   0.9968  3.20       0.68   \n",
       "2                 15.0                  54.0   0.9970  3.26       0.65   \n",
       "3                 17.0                  60.0   0.9980  3.16       0.58   \n",
       "4                 11.0                  34.0   0.9978  3.51       0.56   \n",
       "\n",
       "   alcohol  quality  \n",
       "0      9.4        5  \n",
       "1      9.8        5  \n",
       "2      9.8        5  \n",
       "3      9.8        6  \n",
       "4      9.4        5  "
      ]
     },
     "execution_count": 22,
     "metadata": {},
     "output_type": "execute_result"
    }
   ],
   "source": [
    "redwine = pd.read_csv('winequality-red.csv', index_col=None, sep=';') # read in file.\n",
    "                                                                       \n",
    "redwine.head(5) # view first 5 rows"
   ]
  },
  {
   "cell_type": "markdown",
   "metadata": {},
   "source": [
    "Above, we have imported the given dataset and separated it at the semi-colons. There are 11 input columns and 1 output column, as summarised below.\n",
    "\n",
    "Given is the attribute name, attribute type, the measurement unit and a\n",
    "brief description.  The number of rings is the value to predict, which indicates age.\n",
    "\n",
    "\n",
    "   Input variables:\n",
    "1. - fixed acidity\n",
    "2. - volatile acidity\n",
    "3. - citric acid\n",
    "4. - residual sugar\n",
    "5. - chlorides\n",
    "6. - free sulfur dioxide\n",
    "7. - total sulfur dioxide\n",
    "8. - density\n",
    "9. - pH\n",
    "10. - sulphates\n",
    "11. - alcohol\n",
    "\n",
    "   \n",
    "Output variable (based on sensory data):\n",
    "\n",
    "12. quality (score between 0 and 10)"
   ]
  },
  {
   "cell_type": "code",
   "execution_count": 23,
   "metadata": {},
   "outputs": [
    {
     "data": {
      "image/png": "[encoded data removed]",
      "text/plain": [
       "<Figure size 1440x1080 with 12 Axes>"
      ]
     },
     "metadata": {
      "needs_background": "light"
     },
     "output_type": "display_data"
    }
   ],
   "source": [
    "# using matplotlib to visualise all features\n",
    "\n",
    "%matplotlib inline\n",
    "import matplotlib.pyplot as plt\n",
    "\n",
    "redwine.hist(bins=50, figsize=(20,15))\n",
    "plt.show()"
   ]
  },
  {
   "cell_type": "markdown",
   "metadata": {},
   "source": [
    "Above, we observe a mixture of normally distributed and right-skewed data. We note the high simlarities in distributions between residual sugar and chlorides; and, density and pH; and, free sulfur dioxide and alcohol. There may be chemical relations between those pairs of feature variables.\n",
    "\n",
    "We see the output variable of quality and note that most were rated 5, followed by 6."
   ]
  },
  {
   "cell_type": "markdown",
   "metadata": {},
   "source": [
    "##### Feature scaling not needed.\n",
    "\n",
    "We further note that we do not need to perform feature scaling, as it is not of importance for random forrest regressors, which are based on decision tree modelling. Performing feature scaling would be redundant in this case - decision trees and ensembles are not sensitive such variance.\n"
   ]
  },
  {
   "cell_type": "code",
   "execution_count": 24,
   "metadata": {},
   "outputs": [],
   "source": [
    "# split data into train and test (85:15):\n",
    "\n",
    "from sklearn.model_selection import train_test_split\n",
    "\n",
    "train_rw, test_rw = train_test_split(redwine, test_size = 0.15, random_state = 1337)"
   ]
  },
  {
   "cell_type": "code",
   "execution_count": 25,
   "metadata": {},
   "outputs": [],
   "source": [
    "# Preparing X, y from training & testing datasets.\n",
    "\n",
    "# Extract X & y from training set:\n",
    "X_train = train_rw.iloc[:, :-1]\n",
    "y_train = pd.DataFrame(train_rw, columns =[\"quality\"])\n",
    "\n",
    "# Extract X & y from testing set:\n",
    "X_test = test_rw.iloc[:, :-1]\n",
    "y_test = pd.DataFrame(test_rw, columns =[\"quality\"])"
   ]
  },
  {
   "cell_type": "code",
   "execution_count": 26,
   "metadata": {},
   "outputs": [],
   "source": [
    "# modelling:\n",
    "\n",
    "from sklearn.ensemble import RandomForestRegressor # core model.\n",
    "from sklearn import metrics # model eval.\n",
    "from sklearn.metrics import mean_absolute_error # model eval.\n",
    "\n",
    "\n",
    "RFR = RandomForestRegressor(\n",
    "    criterion='mae', # build ABR from SVR with RBF kernel.\n",
    "    n_estimators=50,)\n",
    "\n",
    "# training the model:\n",
    "RFR.fit(X_train, y_train.values.ravel()) # .values.ravel() to convert column-vector to 1-d array.\n",
    "\n",
    "\n",
    "# applying to training dataset:\n",
    "exp_y_train = y_train # actual.\n",
    "pred_y_train = RFR.predict(X_train).round()  # what our model predicts. # why is it keeping the decimal?\n",
    "\n",
    "\n",
    "# applying to testing dataset:\n",
    "exp_y_test = y_test # actual.\n",
    "pred_y_test = RFR.predict(X_test).round() # what our model predicts."
   ]
  },
  {
   "cell_type": "markdown",
   "metadata": {},
   "source": [
    "We note that we have not determined best-fit hyperparamters above. We have been asked to leave this out, but this cell shows an example of code that might be used to determine the best hyperparamters to use, to reduce over- or under-fitting the model.\n",
    "\n",
    "\"\"\"\n",
    "load RandomForestRegressor and GridSearch from sklearn:\n",
    "\n",
    "from sklearn.tree import RandomForestRegressor\n",
    "from sklearn.model_selection import GridSearchCV\n",
    "\n",
    "investigating 3 values for 3 hyperparamters:\n",
    "\n",
    "param_grid = [ {'criterion': ['mae', 'mse'],\n",
    "                'max_depth': [3, 15, 75],\n",
    "                'max_features': [2, 4, 7]} ]\n",
    "\n",
    "grid_search = GridSearchCV(RandomForestRegressor(),\n",
    "                           param_grid,\n",
    "                           cv = 3,\n",
    "                           scoring = 'f1_micro', \n",
    "                           return_train_score = True)\n",
    "\n",
    "grid_search.fit(X, y)        \n",
    "\"\"\""
   ]
  },
  {
   "cell_type": "code",
   "execution_count": 27,
   "metadata": {},
   "outputs": [
    {
     "name": "stdout",
     "output_type": "stream",
     "text": [
      "0.047093451066961\n",
      "0.4166666666666667\n"
     ]
    }
   ],
   "source": [
    "# comparing mean absolute error (average) on training set vs testing set:\n",
    "\n",
    "mae_train = mean_absolute_error(exp_y_train, pred_y_train)\n",
    "mae_test = mean_absolute_error(exp_y_test, pred_y_test)\n",
    "\n",
    "print(mae_train)\n",
    "\n",
    "print(mae_test)"
   ]
  },
  {
   "cell_type": "markdown",
   "metadata": {},
   "source": [
    "A lower MAE is better, which means the model has performed better on the testing set than the training set."
   ]
  },
  {
   "cell_type": "code",
   "execution_count": 28,
   "metadata": {
    "scrolled": false
   },
   "outputs": [
    {
     "data": {
      "image/png": "[encoded data removed]",
      "text/plain": [
       "<Figure size 432x288 with 2 Axes>"
      ]
     },
     "metadata": {
      "needs_background": "light"
     },
     "output_type": "display_data"
    }
   ],
   "source": [
    "plot_hist(pred_y_train,\n",
    "        exp_y_train,\n",
    "        pred_y_test,\n",
    "        exp_y_test,\n",
    "        \"Distributions of raw prediction errors on train & test datasets\",\n",
    "        \"Frequency\",\n",
    "        \"Raw prediction error\")"
   ]
  },
  {
   "cell_type": "markdown",
   "metadata": {},
   "source": [
    "Above, we are showing the distribution of raw prediction errors on the final model. We are showing this for our model applied on both the training and testing dataset.\n",
    "\n",
    "A raw error value is calculated by subtracting the predicted value (quality rating) from the actual value. A negative (positive) result therefore means that the model has underestimated (overestimated) the ring count."
   ]
  },
  {
   "cell_type": "markdown",
   "metadata": {},
   "source": [
    "#### Task 2. Feature importances & forming reduced-dimensional data"
   ]
  },
  {
   "cell_type": "code",
   "execution_count": 29,
   "metadata": {
    "scrolled": true
   },
   "outputs": [
    {
     "data": {
      "text/plain": [
       "array([0.05416814, 0.11842374, 0.04922489, 0.06355377, 0.06159366,\n",
       "       0.04347784, 0.07304254, 0.06713548, 0.06038374, 0.08385522,\n",
       "       0.32514099])"
      ]
     },
     "execution_count": 29,
     "metadata": {},
     "output_type": "execute_result"
    }
   ],
   "source": [
    "features_array = RFR.feature_importances_\n",
    "features_array\n",
    "\n",
    "# higher value = more important."
   ]
  },
  {
   "cell_type": "code",
   "execution_count": 41,
   "metadata": {},
   "outputs": [
    {
     "name": "stdout",
     "output_type": "stream",
     "text": [
      " 1) alcohol                        0.325141\n",
      " 2) volatile acidity               0.118424\n",
      " 3) sulphates                      0.083855\n",
      " 4) total sulfur dioxide           0.073043\n",
      " 5) density                        0.067135\n",
      " 6) residual sugar                 0.063554\n",
      " 7) chlorides                      0.061594\n",
      " 8) pH                             0.060384\n",
      " 9) fixed acidity                  0.054168\n",
      "10) citric acid                    0.049225\n",
      "11) free sulfur dioxide            0.043478\n"
     ]
    }
   ],
   "source": [
    "# writing a function to list features and their corresponding importance:\n",
    "\n",
    "importances = RFR.feature_importances_\n",
    "indices = np.argsort(importances)[::-1]\n",
    "labels = redwine.columns[:-1]\n",
    "\n",
    "\n",
    "for f in range(X_train.shape[1]):\n",
    "    print(\"%2d) %-*s %f\" % (f + 1, 30, labels[indices[f]], importances[indices[f]]))  "
   ]
  },
  {
   "cell_type": "markdown",
   "metadata": {},
   "source": [
    "Per the prompt, we would thus remove the bottom 2 features, 10 (citric acid) and 11 (free sulfur dioxide), as they have importance below 0.05."
   ]
  },
  {
   "cell_type": "markdown",
   "metadata": {},
   "source": [
    "#### Task 3. Feature importances & forming reduced-dimensional data"
   ]
  },
  {
   "cell_type": "code",
   "execution_count": 42,
   "metadata": {},
   "outputs": [
    {
     "data": {
      "text/html": [
       "<div>\n",
       "<style scoped>\n",
       "    .dataframe tbody tr th:only-of-type {\n",
       "        vertical-align: middle;\n",
       "    }\n",
       "\n",
       "    .dataframe tbody tr th {\n",
       "        vertical-align: top;\n",
       "    }\n",
       "\n",
       "    .dataframe thead th {\n",
       "        text-align: right;\n",
       "    }\n",
       "</style>\n",
       "<table border=\"1\" class=\"dataframe\">\n",
       "  <thead>\n",
       "    <tr style=\"text-align: right;\">\n",
       "      <th></th>\n",
       "      <th>fixed acidity</th>\n",
       "      <th>volatile acidity</th>\n",
       "      <th>residual sugar</th>\n",
       "      <th>chlorides</th>\n",
       "      <th>total sulfur dioxide</th>\n",
       "      <th>density</th>\n",
       "      <th>pH</th>\n",
       "      <th>sulphates</th>\n",
       "      <th>alcohol</th>\n",
       "      <th>quality</th>\n",
       "    </tr>\n",
       "  </thead>\n",
       "  <tbody>\n",
       "    <tr>\n",
       "      <th>0</th>\n",
       "      <td>7.4</td>\n",
       "      <td>0.700</td>\n",
       "      <td>1.9</td>\n",
       "      <td>0.076</td>\n",
       "      <td>34.0</td>\n",
       "      <td>0.99780</td>\n",
       "      <td>3.51</td>\n",
       "      <td>0.56</td>\n",
       "      <td>9.4</td>\n",
       "      <td>5</td>\n",
       "    </tr>\n",
       "    <tr>\n",
       "      <th>1</th>\n",
       "      <td>7.8</td>\n",
       "      <td>0.880</td>\n",
       "      <td>2.6</td>\n",
       "      <td>0.098</td>\n",
       "      <td>67.0</td>\n",
       "      <td>0.99680</td>\n",
       "      <td>3.20</td>\n",
       "      <td>0.68</td>\n",
       "      <td>9.8</td>\n",
       "      <td>5</td>\n",
       "    </tr>\n",
       "    <tr>\n",
       "      <th>2</th>\n",
       "      <td>7.8</td>\n",
       "      <td>0.760</td>\n",
       "      <td>2.3</td>\n",
       "      <td>0.092</td>\n",
       "      <td>54.0</td>\n",
       "      <td>0.99700</td>\n",
       "      <td>3.26</td>\n",
       "      <td>0.65</td>\n",
       "      <td>9.8</td>\n",
       "      <td>5</td>\n",
       "    </tr>\n",
       "    <tr>\n",
       "      <th>3</th>\n",
       "      <td>11.2</td>\n",
       "      <td>0.280</td>\n",
       "      <td>1.9</td>\n",
       "      <td>0.075</td>\n",
       "      <td>60.0</td>\n",
       "      <td>0.99800</td>\n",
       "      <td>3.16</td>\n",
       "      <td>0.58</td>\n",
       "      <td>9.8</td>\n",
       "      <td>6</td>\n",
       "    </tr>\n",
       "    <tr>\n",
       "      <th>4</th>\n",
       "      <td>7.4</td>\n",
       "      <td>0.700</td>\n",
       "      <td>1.9</td>\n",
       "      <td>0.076</td>\n",
       "      <td>34.0</td>\n",
       "      <td>0.99780</td>\n",
       "      <td>3.51</td>\n",
       "      <td>0.56</td>\n",
       "      <td>9.4</td>\n",
       "      <td>5</td>\n",
       "    </tr>\n",
       "    <tr>\n",
       "      <th>...</th>\n",
       "      <td>...</td>\n",
       "      <td>...</td>\n",
       "      <td>...</td>\n",
       "      <td>...</td>\n",
       "      <td>...</td>\n",
       "      <td>...</td>\n",
       "      <td>...</td>\n",
       "      <td>...</td>\n",
       "      <td>...</td>\n",
       "      <td>...</td>\n",
       "    </tr>\n",
       "    <tr>\n",
       "      <th>1594</th>\n",
       "      <td>6.2</td>\n",
       "      <td>0.600</td>\n",
       "      <td>2.0</td>\n",
       "      <td>0.090</td>\n",
       "      <td>44.0</td>\n",
       "      <td>0.99490</td>\n",
       "      <td>3.45</td>\n",
       "      <td>0.58</td>\n",
       "      <td>10.5</td>\n",
       "      <td>5</td>\n",
       "    </tr>\n",
       "    <tr>\n",
       "      <th>1595</th>\n",
       "      <td>5.9</td>\n",
       "      <td>0.550</td>\n",
       "      <td>2.2</td>\n",
       "      <td>0.062</td>\n",
       "      <td>51.0</td>\n",
       "      <td>0.99512</td>\n",
       "      <td>3.52</td>\n",
       "      <td>0.76</td>\n",
       "      <td>11.2</td>\n",
       "      <td>6</td>\n",
       "    </tr>\n",
       "    <tr>\n",
       "      <th>1596</th>\n",
       "      <td>6.3</td>\n",
       "      <td>0.510</td>\n",
       "      <td>2.3</td>\n",
       "      <td>0.076</td>\n",
       "      <td>40.0</td>\n",
       "      <td>0.99574</td>\n",
       "      <td>3.42</td>\n",
       "      <td>0.75</td>\n",
       "      <td>11.0</td>\n",
       "      <td>6</td>\n",
       "    </tr>\n",
       "    <tr>\n",
       "      <th>1597</th>\n",
       "      <td>5.9</td>\n",
       "      <td>0.645</td>\n",
       "      <td>2.0</td>\n",
       "      <td>0.075</td>\n",
       "      <td>44.0</td>\n",
       "      <td>0.99547</td>\n",
       "      <td>3.57</td>\n",
       "      <td>0.71</td>\n",
       "      <td>10.2</td>\n",
       "      <td>5</td>\n",
       "    </tr>\n",
       "    <tr>\n",
       "      <th>1598</th>\n",
       "      <td>6.0</td>\n",
       "      <td>0.310</td>\n",
       "      <td>3.6</td>\n",
       "      <td>0.067</td>\n",
       "      <td>42.0</td>\n",
       "      <td>0.99549</td>\n",
       "      <td>3.39</td>\n",
       "      <td>0.66</td>\n",
       "      <td>11.0</td>\n",
       "      <td>6</td>\n",
       "    </tr>\n",
       "  </tbody>\n",
       "</table>\n",
       "<p>1599 rows × 10 columns</p>\n",
       "</div>"
      ],
      "text/plain": [
       "      fixed acidity  volatile acidity  residual sugar  chlorides  \\\n",
       "0               7.4             0.700             1.9      0.076   \n",
       "1               7.8             0.880             2.6      0.098   \n",
       "2               7.8             0.760             2.3      0.092   \n",
       "3              11.2             0.280             1.9      0.075   \n",
       "4               7.4             0.700             1.9      0.076   \n",
       "...             ...               ...             ...        ...   \n",
       "1594            6.2             0.600             2.0      0.090   \n",
       "1595            5.9             0.550             2.2      0.062   \n",
       "1596            6.3             0.510             2.3      0.076   \n",
       "1597            5.9             0.645             2.0      0.075   \n",
       "1598            6.0             0.310             3.6      0.067   \n",
       "\n",
       "      total sulfur dioxide  density    pH  sulphates  alcohol  quality  \n",
       "0                     34.0  0.99780  3.51       0.56      9.4        5  \n",
       "1                     67.0  0.99680  3.20       0.68      9.8        5  \n",
       "2                     54.0  0.99700  3.26       0.65      9.8        5  \n",
       "3                     60.0  0.99800  3.16       0.58      9.8        6  \n",
       "4                     34.0  0.99780  3.51       0.56      9.4        5  \n",
       "...                    ...      ...   ...        ...      ...      ...  \n",
       "1594                  44.0  0.99490  3.45       0.58     10.5        5  \n",
       "1595                  51.0  0.99512  3.52       0.76     11.2        6  \n",
       "1596                  40.0  0.99574  3.42       0.75     11.0        6  \n",
       "1597                  44.0  0.99547  3.57       0.71     10.2        5  \n",
       "1598                  42.0  0.99549  3.39       0.66     11.0        6  \n",
       "\n",
       "[1599 rows x 10 columns]"
      ]
     },
     "execution_count": 42,
     "metadata": {},
     "output_type": "execute_result"
    }
   ],
   "source": [
    "# Reducing the dimensions based on above:\n",
    "redwine1 = redwine.drop(['citric acid'], axis=1).drop(['free sulfur dioxide'], axis=1)\n",
    "\n",
    "redwine1 # now working with abalone1"
   ]
  },
  {
   "cell_type": "code",
   "execution_count": 43,
   "metadata": {},
   "outputs": [],
   "source": [
    "# split data into train and test (85:15):\n",
    "\n",
    "train_rw_rd, test_rw_rd = train_test_split(redwine1, test_size = 0.15, random_state = 1337)\n"
   ]
  },
  {
   "cell_type": "code",
   "execution_count": 44,
   "metadata": {},
   "outputs": [],
   "source": [
    "# Preparing X, y from training & testing datasets.\n",
    "\n",
    "# Extract X & y from training set:\n",
    "X_train_rd = train_rw_rd.iloc[:, :-1]\n",
    "y_train_rd = pd.DataFrame(train_rw_rd, columns =[\"quality\"])\n",
    "\n",
    "# Extract X & y from testing set:\n",
    "X_test_rd = test_rw_rd.iloc[:, :-1]\n",
    "y_test_rd = pd.DataFrame(test_rw_rd, columns =[\"quality\"])"
   ]
  },
  {
   "cell_type": "code",
   "execution_count": 45,
   "metadata": {},
   "outputs": [],
   "source": [
    "# modelling:\n",
    "\n",
    "RFR_rd = RandomForestRegressor(\n",
    "    criterion='mae', # build ABR from SVR with RBF kernel.\n",
    "    n_estimators=50,)\n",
    "\n",
    "# training the model:\n",
    "RFR_rd.fit(X_train_rd, y_train_rd.values.ravel()) # .values.ravel() to convert column-vector to 1-d array.\n",
    "\n",
    "\n",
    "# applying to training dataset:\n",
    "exp_y_train_rd = y_train_rd # actual.\n",
    "pred_y_train_rd = RFR_rd.predict(X_train_rd).round()  # what our model predicts. # why is it keeping the decimal?\n",
    "\n",
    "\n",
    "# applying to testing dataset:\n",
    "exp_y_test_rd = y_test_rd # actual.\n",
    "pred_y_test_rd = RFR_rd.predict(X_test_rd).round() # what our model predicts."
   ]
  },
  {
   "cell_type": "code",
   "execution_count": 38,
   "metadata": {},
   "outputs": [
    {
     "name": "stdout",
     "output_type": "stream",
     "text": [
      "0.054451802796173655\n",
      "0.4125\n"
     ]
    }
   ],
   "source": [
    "# comparing mean absolute error (average) on training set vs testing set:\n",
    "\n",
    "mae_train_rd = mean_absolute_error(exp_y_train_rd, pred_y_train_rd)\n",
    "mae_test_rd = mean_absolute_error(exp_y_test_rd, pred_y_test_rd)\n",
    "\n",
    "print(mae_train_rd)\n",
    "\n",
    "print(mae_test_rd)"
   ]
  },
  {
   "cell_type": "code",
   "execution_count": 39,
   "metadata": {},
   "outputs": [
    {
     "data": {
      "image/png": "[encoded data removed]",
      "text/plain": [
       "<Figure size 432x288 with 2 Axes>"
      ]
     },
     "metadata": {
      "needs_background": "light"
     },
     "output_type": "display_data"
    }
   ],
   "source": [
    "plot_hist(pred_y_train_rd,\n",
    "        exp_y_train_rd,\n",
    "        pred_y_test_rd,\n",
    "        exp_y_test_rd,\n",
    "        \"Distributions of raw prediction errors on train & test datasets\",\n",
    "        \"Frequency\",\n",
    "        \"Raw prediction error\")"
   ]
  },
  {
   "cell_type": "markdown",
   "metadata": {},
   "source": [
    "#### Task 4. Comparing performance of the two models.\n",
    "* I will take this to mean the comparison of (i) the full model's MAEs against (ii) the reduced-dimensional MAEs."
   ]
  },
  {
   "cell_type": "code",
   "execution_count": 37,
   "metadata": {},
   "outputs": [
    {
     "name": "stdout",
     "output_type": "stream",
     "text": [
      "0.047093451066961\n",
      "0.4166666666666667\n",
      "0.054451802796173655\n",
      "0.4125\n"
     ]
    }
   ],
   "source": [
    "# without reduction:\n",
    "print(mae_train)\n",
    "print(mae_test)\n",
    "\n",
    "# with dimensionality reduction:\n",
    "print(mae_train_rd)\n",
    "print(mae_test_rd)"
   ]
  },
  {
   "cell_type": "markdown",
   "metadata": {},
   "source": [
    "#### Conclusion\n",
    "\n",
    "We note that there has been a reduction in mean absolute error on the training and testing dataset, indicating better performance.\n",
    "\n",
    "We also note that the threshold of 5% allowed us only to remove 2 features - perhaps a threshold of 10% would see a greater improvement from the original model to the dimension-reduced model."
   ]
  }
 ],
 "metadata": {
  "hide_input": false,
  "kernelspec": {
   "display_name": "Python 3",
   "language": "python",
   "name": "python3"
  },
  "language_info": {
   "codemirror_mode": {
    "name": "ipython",
    "version": 3
   },
   "file_extension": ".py",
   "mimetype": "text/x-python",
   "name": "python",
   "nbconvert_exporter": "python",
   "pygments_lexer": "ipython3",
   "version": "3.8.5"
  },
  "toc": {
   "base_numbering": 1,
   "nav_menu": {},
   "number_sections": true,
   "sideBar": true,
   "skip_h1_title": false,
   "title_cell": "Table of Contents",
   "title_sidebar": "Contents",
   "toc_cell": false,
   "toc_position": {},
   "toc_section_display": true,
   "toc_window_display": false
  },
  "varInspector": {
   "cols": {
    "lenName": 16,
    "lenType": 16,
    "lenVar": 40
   },
   "kernels_config": {
    "python": {
     "delete_cmd_postfix": "",
     "delete_cmd_prefix": "del ",
     "library": "var_list.py",
     "varRefreshCmd": "print(var_dic_list())"
    },
    "r": {
     "delete_cmd_postfix": ") ",
     "delete_cmd_prefix": "rm(",
     "library": "var_list.r",
     "varRefreshCmd": "cat(var_dic_list()) "
    }
   },
   "types_to_exclude": [
    "module",
    "function",
    "builtin_function_or_method",
    "instance",
    "_Feature"
   ],
   "window_display": false
  }
 },
 "nbformat": 4,
 "nbformat_minor": 4
}
